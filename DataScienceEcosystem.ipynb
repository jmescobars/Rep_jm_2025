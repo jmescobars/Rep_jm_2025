{
  "nbformat": 4,
  "nbformat_minor": 0,
  "metadata": {
    "colab": {
      "provenance": []
    },
    "kernelspec": {
      "name": "python3",
      "display_name": "Python 3"
    },
    "language_info": {
      "name": "python"
    }
  },
  "cells": [
    {
      "cell_type": "markdown",
      "source": [
        "# Data Science Tool Ecosystem"
      ],
      "metadata": {
        "id": "rHnLX_sXicrs"
      }
    },
    {
      "cell_type": "markdown",
      "source": [
        "In this notebook, Data Science Tools and Ecosystem are summarized"
      ],
      "metadata": {
        "id": "BEbD_6O2i_qI"
      }
    },
    {
      "cell_type": "markdown",
      "source": [
        "**Objectives**"
      ],
      "metadata": {
        "id": "TFoKJYHDouUg"
      }
    },
    {
      "cell_type": "markdown",
      "source": [
        "* List popular data science tools\n",
        "* List popular data science languages\n",
        "* List popular data science libraries"
      ],
      "metadata": {
        "id": "SG-cQ_OLo-j6"
      }
    },
    {
      "cell_type": "code",
      "source": [],
      "metadata": {
        "id": "wkd6eGZi5n8j"
      },
      "execution_count": null,
      "outputs": []
    },
    {
      "cell_type": "code",
      "source": [],
      "metadata": {
        "id": "JoQ9RHgbpUyg"
      },
      "execution_count": null,
      "outputs": []
    },
    {
      "cell_type": "code",
      "source": [],
      "metadata": {
        "id": "u7DQPyN-pC0j"
      },
      "execution_count": null,
      "outputs": []
    },
    {
      "cell_type": "code",
      "source": [],
      "metadata": {
        "id": "mPDwK6UdpBgh"
      },
      "execution_count": null,
      "outputs": []
    },
    {
      "cell_type": "code",
      "source": [],
      "metadata": {
        "id": "Ij5ZaAMLo9DM"
      },
      "execution_count": null,
      "outputs": []
    },
    {
      "cell_type": "code",
      "source": [],
      "metadata": {
        "id": "at8Kyw3QoyCC"
      },
      "execution_count": null,
      "outputs": []
    },
    {
      "cell_type": "markdown",
      "source": [
        "1. Python\n",
        "2. Java\n",
        "3. R\n",
        "4. SQL\n",
        "5. C++\n",
        "6. C\n"
      ],
      "metadata": {
        "id": "8gf5mF5qlaVE"
      }
    },
    {
      "cell_type": "markdown",
      "source": [
        "Data Science Libraries\n",
        "1. NumPy\n",
        "2. Pandas\n",
        "3. Matplotlib\n",
        "4. Scikit-learn\n",
        "5. SciPy\n",
        "6. TensorFlow\n",
        "7. Keras\n",
        "8. PyTorch\n"
      ],
      "metadata": {
        "id": "XuIRnMP0mCLW"
      }
    },
    {
      "cell_type": "markdown",
      "source": [
        "| Data Science Tools |\n",
        "| -------------|\n",
        "| Python|\n",
        "| R |\n",
        "| TensorFlow |\n",
        "| Pytorch |"
      ],
      "metadata": {
        "id": "KF_giNkHm-iB"
      }
    },
    {
      "cell_type": "markdown",
      "source": [
        "### Below are a few examples of evaluating arithmetic expressions in Python"
      ],
      "metadata": {
        "id": "j-WfWhN4nhBJ"
      }
    },
    {
      "cell_type": "markdown",
      "source": [
        "This a simple arithmetic expression to mutiply then add integers"
      ],
      "metadata": {
        "id": "c5vRQ6vWnyLz"
      }
    },
    {
      "cell_type": "code",
      "source": [
        "(3*4)+5"
      ],
      "metadata": {
        "colab": {
          "base_uri": "https://localhost:8080/"
        },
        "id": "ozQX8Qs3nh9v",
        "outputId": "352f92da-d35f-4f81-cfaf-b80f37ffdac3"
      },
      "execution_count": null,
      "outputs": [
        {
          "output_type": "execute_result",
          "data": {
            "text/plain": [
              "17"
            ]
          },
          "metadata": {},
          "execution_count": 6
        }
      ]
    },
    {
      "cell_type": "markdown",
      "source": [
        "his will convert 200 minutes to hours by diving by 60"
      ],
      "metadata": {
        "id": "uKMlnL7CoS8N"
      }
    },
    {
      "cell_type": "code",
      "source": [
        "(200/60)"
      ],
      "metadata": {
        "colab": {
          "base_uri": "https://localhost:8080/"
        },
        "id": "Ggt_4H-JoTaF",
        "outputId": "21fcc63a-1e13-46f3-8682-309de1839219"
      },
      "execution_count": null,
      "outputs": [
        {
          "output_type": "execute_result",
          "data": {
            "text/plain": [
              "3.3333333333333335"
            ]
          },
          "metadata": {},
          "execution_count": 8
        }
      ]
    },
    {
      "cell_type": "markdown",
      "source": [
        "Author:\n",
        "## Jose Escobar"
      ],
      "metadata": {
        "id": "my32l9NcplzL"
      }
    },
    {
      "cell_type": "code",
      "source": [],
      "metadata": {
        "id": "KBf2ame9po4b"
      },
      "execution_count": null,
      "outputs": []
    }
  ]
}